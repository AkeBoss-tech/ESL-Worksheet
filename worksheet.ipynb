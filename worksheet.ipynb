{
 "cells": [
  {
   "cell_type": "code",
   "execution_count": 10,
   "metadata": {},
   "outputs": [
    {
     "ename": "ImportError",
     "evalue": "cannot import name 'get_all_verb_forms' from 'util' (c:\\Users\\akash\\Documents\\Coding Projects\\ESL-Worksheet\\util.py)",
     "output_type": "error",
     "traceback": [
      "\u001b[1;31m---------------------------------------------------------------------------\u001b[0m",
      "\u001b[1;31mImportError\u001b[0m                               Traceback (most recent call last)",
      "Cell \u001b[1;32mIn[10], line 1\u001b[0m\n\u001b[1;32m----> 1\u001b[0m \u001b[39mfrom\u001b[39;00m \u001b[39mutil\u001b[39;00m \u001b[39mimport\u001b[39;00m generate_fill_worksheet, get_all_verb_forms\n",
      "\u001b[1;31mImportError\u001b[0m: cannot import name 'get_all_verb_forms' from 'util' (c:\\Users\\akash\\Documents\\Coding Projects\\ESL-Worksheet\\util.py)"
     ]
    }
   ],
   "source": [
    "from util import generate_fill_worksheet, get_all_verb_forms"
   ]
  },
  {
   "cell_type": "code",
   "execution_count": 8,
   "metadata": {},
   "outputs": [
    {
     "ename": "NameError",
     "evalue": "name 'get_all_verb_forms' is not defined",
     "output_type": "error",
     "traceback": [
      "\u001b[1;31m---------------------------------------------------------------------------\u001b[0m",
      "\u001b[1;31mNameError\u001b[0m                                 Traceback (most recent call last)",
      "Cell \u001b[1;32mIn[8], line 1\u001b[0m\n\u001b[1;32m----> 1\u001b[0m get_all_verb_forms(\u001b[39m\"\u001b[39m\u001b[39mtell\u001b[39m\u001b[39m\"\u001b[39m)\n",
      "\u001b[1;31mNameError\u001b[0m: name 'get_all_verb_forms' is not defined"
     ]
    }
   ],
   "source": [
    "get_all_verb_forms(\"tell\")"
   ]
  },
  {
   "cell_type": "code",
   "execution_count": 34,
   "metadata": {},
   "outputs": [
    {
     "data": {
      "text/plain": [
       "{'black_market',\n",
       " 'bleed',\n",
       " 'consort',\n",
       " 'course',\n",
       " 'execute',\n",
       " 'extend',\n",
       " 'feed',\n",
       " 'flow',\n",
       " 'go',\n",
       " 'ladder',\n",
       " 'lead',\n",
       " 'pass',\n",
       " 'ravel',\n",
       " 'run',\n",
       " 'run_for',\n",
       " 'running',\n",
       " 'running_game',\n",
       " 'running_play',\n",
       " 'tally',\n",
       " 'unravel'}"
      ]
     },
     "execution_count": 34,
     "metadata": {},
     "output_type": "execute_result"
    }
   ],
   "source": [
    "from nltk.corpus import wordnet\n",
    "from util import is_verb\n",
    "\n",
    "bank = set()\n",
    "\n",
    "# similar_words = wordnet.similar_tos('run')\n",
    "for syn in wordnet.synsets(\"run\"):\n",
    "    if not is_verb(syn.name().split('.')[0]): continue\n",
    "\n",
    "    for lemma in syn.lemmas():\n",
    "        bank.add(lemma.name())\n",
    "\n",
    "bank"
   ]
  },
  {
   "cell_type": "code",
   "execution_count": null,
   "metadata": {},
   "outputs": [],
   "source": []
  },
  {
   "cell_type": "code",
   "execution_count": 5,
   "metadata": {},
   "outputs": [
    {
     "name": "stdout",
     "output_type": "stream",
     "text": [
      "Defaulting to user installation because normal site-packages is not writeable\n",
      "Note: you may need to restart the kernel to use updated packages.\n"
     ]
    },
    {
     "name": "stderr",
     "output_type": "stream",
     "text": [
      "ERROR: Could not find a version that satisfies the requirement verbs (from versions: none)\n",
      "ERROR: No matching distribution found for verbs\n",
      "\n",
      "[notice] A new release of pip available: 22.2.2 -> 23.2.1\n",
      "[notice] To update, run: python.exe -m pip install --upgrade pip\n"
     ]
    }
   ],
   "source": [
    "%pip install verbs"
   ]
  }
 ],
 "metadata": {
  "kernelspec": {
   "display_name": "Python 3",
   "language": "python",
   "name": "python3"
  },
  "language_info": {
   "codemirror_mode": {
    "name": "ipython",
    "version": 3
   },
   "file_extension": ".py",
   "mimetype": "text/x-python",
   "name": "python",
   "nbconvert_exporter": "python",
   "pygments_lexer": "ipython3",
   "version": "3.10.8"
  }
 },
 "nbformat": 4,
 "nbformat_minor": 2
}
