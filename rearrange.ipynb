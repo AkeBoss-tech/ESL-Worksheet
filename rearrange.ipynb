{
 "cells": [
  {
   "cell_type": "code",
   "execution_count": 2,
   "metadata": {},
   "outputs": [],
   "source": [
    "import os\n",
    "from random import choice\n",
    "\n",
    "# load random story\n",
    "def random_story(folder=None):\n",
    "    if folder is None:\n",
    "        folder = choice(os.listdir('ESL-stuff'))\n",
    "        \n",
    "    story = choice(os.listdir('ESL-stuff/' + folder))\n",
    "    print(folder + '/' + story)\n",
    "    with open('ESL-stuff/' + folder + '/' + story, 'r') as f:\n",
    "        story = f.readlines()\n",
    "        # get rid of empty lines\n",
    "        story = [line for line in story if line != '\\n']\n",
    "    return story"
   ]
  },
  {
   "cell_type": "code",
   "execution_count": 3,
   "metadata": {},
   "outputs": [],
   "source": [
    "def get_random_sentence(story):\n",
    "    \"\"\"Get a random sentence from a story.\"\"\"\n",
    "    paragraph = choice(story).split('. ')\n",
    "    sentence = choice(paragraph)\n",
    "    return sentence + \".\""
   ]
  },
  {
   "cell_type": "code",
   "execution_count": 17,
   "metadata": {},
   "outputs": [
    {
     "name": "stdout",
     "output_type": "stream",
     "text": [
      "level/file-6-44.txt\n"
     ]
    },
    {
     "data": {
      "text/plain": [
       "['James was always good at painting and drawing. He could paint faces and buildings accurately. He could come up with original artwork, too. He also does abstract art. Abstract art is art that uses shapes, colors, forms, and textures, but does not represent real objects. For example, a red circle painted on a black background is abstract art. However, James knew that art was not the most stable career. James was at community college. His parents wanted him to get an Associate Degree. James hated community college though. He didn\\'t care about math, science, or English. He just wanted to draw. After one semester, he decided to drop out. His parents were furious. \"How are you going to make a living?\" his dad asked. \"By doing what I am good at,\" James said. The very next day, James enrolled at his local art college. His dream was to eventually become a book illustrator. James did very well at his art college. He won a lot of art competitions. After he graduated, however, James had trouble finding a job as a book illustrator. There were not that many positions available. After three months of not working, James decided to apply to different jobs. He applied to graphic design positions and had better luck there. It paid pretty well, too. He did not want to give up on his dream of becoming a book illustrator, but he was glad he was making money. His parents apologized for not believing in him earlier. ']"
      ]
     },
     "execution_count": 17,
     "metadata": {},
     "output_type": "execute_result"
    }
   ],
   "source": [
    "story = random_story(\"level\")\n",
    "story"
   ]
  },
  {
   "cell_type": "code",
   "execution_count": 14,
   "metadata": {},
   "outputs": [
    {
     "data": {
      "text/plain": [
       "'Hannah unlocked the door with a paperclip and went inside the house.'"
      ]
     },
     "execution_count": 14,
     "metadata": {},
     "output_type": "execute_result"
    }
   ],
   "source": [
    "get_random_sentence(story)"
   ]
  },
  {
   "cell_type": "code",
   "execution_count": 62,
   "metadata": {},
   "outputs": [],
   "source": [
    "# find verb in sentence\n",
    "from nltk.tokenize import word_tokenize\n",
    "from nltk.tag import pos_tag\n",
    "\n",
    "def find_verb(sentence):\n",
    "    verbs = []\n",
    "    pos_tags = pos_tag(word_tokenize(sentence))\n",
    "    print(pos_tags)\n",
    "    for word, tag in pos_tags:\n",
    "        if tag.startswith('VBD') or tag.startswith('VBP'):\n",
    "            verbs.append(word)\n",
    "\n",
    "    if len(verbs) == 0:\n",
    "        for word, tag in pos_tags:\n",
    "            if tag.startswith('VBZ') or tag.startswith('VB'):\n",
    "                verbs.append(word)\n",
    "    return verbs"
   ]
  },
  {
   "cell_type": "code",
   "execution_count": 42,
   "metadata": {},
   "outputs": [
    {
     "name": "stderr",
     "output_type": "stream",
     "text": [
      "[nltk_data] Downloading package averaged_perceptron_tagger to\n",
      "[nltk_data]     C:\\Users\\akash\\AppData\\Roaming\\nltk_data...\n",
      "[nltk_data]   Unzipping taggers\\averaged_perceptron_tagger.zip.\n"
     ]
    },
    {
     "data": {
      "text/plain": [
       "True"
      ]
     },
     "execution_count": 42,
     "metadata": {},
     "output_type": "execute_result"
    }
   ],
   "source": [
    "import nltk\n",
    "nltk.download('averaged_perceptron_tagger')"
   ]
  },
  {
   "cell_type": "code",
   "execution_count": 75,
   "metadata": {},
   "outputs": [],
   "source": [
    "# nltk.download('brown')\n",
    "text = nltk.Text(word.lower() for word in nltk.corpus.brown.words())\n",
    "\n",
    "from nltk.corpus import wordnet\n",
    "\n",
    "def create_similar_word_bank(words, num=4):\n",
    "    bank = set()\n",
    "\n",
    "    for word in words:\n",
    "        # similar_words = wordnet.similar_tos('dog')\n",
    "        for syn in wordnet.synsets(word):\n",
    "            bank.add(syn.lemmas()[0].name())\n",
    "\n",
    "        \"\"\" for word in similar_words:\n",
    "            bank.append(word) \"\"\"\n",
    "        # bank.append(text.similar(word, num=num))\n",
    "\n",
    "    return bank\n"
   ]
  },
  {
   "cell_type": "code",
   "execution_count": 76,
   "metadata": {},
   "outputs": [
    {
     "name": "stdout",
     "output_type": "stream",
     "text": [
      "customs/file-34.txt\n",
      "[('Each', 'DT'), ('New', 'NNP'), ('Year', 'NNP'), (\"'s\", 'POS'), ('Day', 'NNP'), (',', ','), ('the', 'DT'), ('city', 'NN'), ('of', 'IN'), ('Pasadena', 'NNP'), ('in', 'IN'), ('California', 'NNP'), ('hosts', 'VBZ'), ('a', 'DT'), ('celebration', 'NN'), ('to', 'TO'), ('welcome', 'VB'), ('the', 'DT'), ('year', 'NN'), ('with', 'IN'), ('a', 'DT'), ('series', 'NN'), ('of', 'IN'), ('events', 'NNS'), ('that', 'WDT'), ('includes', 'VBZ'), ('the', 'DT'), ('Rose', 'NNP'), ('Parade', 'NNP'), ('.', '.')]\n",
      "Similar Verbs {'welcome', 'admit', 'server', 'include', 'Host', 'horde', 'master_of_ceremonies', 'host'}\n",
      "[\"Each New Year's Day, the city of Pasadena in California _____ a celebration to welcome the year with a series of events that includes the Rose Parade.\", \"Each New Year's Day, the city of Pasadena in California hosts a celebration to _______ the year with a series of events that includes the Rose Parade.\", \"Each New Year's Day, the city of Pasadena in California hosts a celebration to welcome the year with a series of events that ________ the Rose Parade.\"]\n"
     ]
    }
   ],
   "source": [
    "sentence = get_random_sentence(random_story())\n",
    "verbs = find_verb(sentence)\n",
    "print(\"Similar Verbs\", create_similar_word_bank(verbs))\n",
    "new_sentence = [sentence.replace(verb, \"_\"*len(verb), 1) for verb in verbs]\n",
    "print(new_sentence)"
   ]
  },
  {
   "cell_type": "markdown",
   "metadata": {},
   "source": [
    "CC - coordinating conjunction\n",
    "\n",
    "CD - cardinal number\n",
    "\n",
    "DT - determiner\n",
    "\n",
    "E - existential there (e.g., \"there is\")\n",
    "\n",
    "FW - foreign word\n",
    "\n",
    "IN - preposition or subordinating conjunction\n",
    "\n",
    "JJ - adjective\n",
    "\n",
    "JJR - comparative adjective\n",
    "\n",
    "JJS - superlative adjective\n",
    "\n",
    "LS - list item marker\n",
    "\n",
    "MD - modal verb\n",
    "\n",
    "NN - noun, singular or mass\n",
    "\n",
    "NNS - noun, plural\n",
    "\n",
    "NNP - proper noun, singular\n",
    "\n",
    "NNPS - proper noun, plural\n",
    "\n",
    "PDT - predeterminer\n",
    "\n",
    "POS - possessive pronoun\n",
    "\n",
    "PRP - personal pronoun\n",
    "\n",
    "PRP$ - possessive pronoun\n",
    "\n",
    "RB - adverb\n",
    "\n",
    "RBR - comparative adverb\n",
    "\n",
    "RBS - superlative adverb\n",
    "\n",
    "詞 - Japanese particle\n",
    "\n",
    "SYM - Chinese character\n",
    "\n",
    "TO - infinitive marker\n",
    "\n",
    "UH - interjection\n",
    "\n",
    "VB - infinitive marker\n",
    "\n",
    "VBD - past tense verb\n",
    "\n",
    "VBG - past participle verb\n",
    "\n",
    "VBN - past participle verb\n",
    "\n",
    "VBP - present tense, perfect, and past participle verb\n",
    "\n",
    "VBZ - present tense, present participle verb\n"
   ]
  },
  {
   "cell_type": "code",
   "execution_count": null,
   "metadata": {},
   "outputs": [],
   "source": []
  }
 ],
 "metadata": {
  "kernelspec": {
   "display_name": "Python 3",
   "language": "python",
   "name": "python3"
  },
  "language_info": {
   "codemirror_mode": {
    "name": "ipython",
    "version": 3
   },
   "file_extension": ".py",
   "mimetype": "text/x-python",
   "name": "python",
   "nbconvert_exporter": "python",
   "pygments_lexer": "ipython3",
   "version": "3.10.8"
  },
  "orig_nbformat": 4
 },
 "nbformat": 4,
 "nbformat_minor": 2
}
